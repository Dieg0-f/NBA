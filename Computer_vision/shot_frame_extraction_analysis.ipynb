{
 "cells": [
  {
   "cell_type": "markdown",
   "id": "d28607bb",
   "metadata": {},
   "source": [
    "# Analisi dei frame di tiro per capire i motivi dei video mancanti"
   ]
  },
  {
   "cell_type": "code",
   "execution_count": 8,
   "id": "e8718963",
   "metadata": {},
   "outputs": [],
   "source": [
    "import pandas as pd\n",
    "import json"
   ]
  },
  {
   "cell_type": "code",
   "execution_count": 9,
   "id": "c42462b9",
   "metadata": {},
   "outputs": [],
   "source": [
    "# Carica il JSON da file\n",
    "with open('shot_frame_extraction_results.json', 'r') as file:\n",
    "    data = json.load(file)"
   ]
  },
  {
   "cell_type": "code",
   "execution_count": 11,
   "id": "3d954b07",
   "metadata": {},
   "outputs": [
    {
     "name": "stdout",
     "output_type": "stream",
     "text": [
      "                          nome_video  valore\n",
      "0  bos-vs-nyk-0022300065_1_11:48.mp4       2\n",
      "1  bos-vs-nyk-0022300065_1_11:10.mp4       2\n",
      "2  bos-vs-nyk-0022300065_1_10:42.mp4       2\n",
      "3  bos-vs-nyk-0022300065_1_10:05.mp4       2\n",
      "4  bos-vs-nyk-0022300065_1_09:43.mp4       2\n"
     ]
    }
   ],
   "source": [
    "# Estrai la sezione dei risultati per video\n",
    "risultati = data['risultati_per_video']\n",
    "\n",
    "# Converti in DataFrame\n",
    "df = pd.DataFrame(list(risultati.items()), columns=['nome_video', 'valore'])\n",
    "\n",
    "print(df.head())"
   ]
  },
  {
   "cell_type": "code",
   "execution_count": 12,
   "id": "7cb1381b",
   "metadata": {},
   "outputs": [
    {
     "data": {
      "text/html": [
       "<div>\n",
       "<style scoped>\n",
       "    .dataframe tbody tr th:only-of-type {\n",
       "        vertical-align: middle;\n",
       "    }\n",
       "\n",
       "    .dataframe tbody tr th {\n",
       "        vertical-align: top;\n",
       "    }\n",
       "\n",
       "    .dataframe thead th {\n",
       "        text-align: right;\n",
       "    }\n",
       "</style>\n",
       "<table border=\"1\" class=\"dataframe\">\n",
       "  <thead>\n",
       "    <tr style=\"text-align: right;\">\n",
       "      <th></th>\n",
       "      <th>nome_video</th>\n",
       "      <th>valore</th>\n",
       "    </tr>\n",
       "  </thead>\n",
       "  <tbody>\n",
       "    <tr>\n",
       "      <th>12</th>\n",
       "      <td>bos-vs-nyk-0022300065_1_04:27.mp4</td>\n",
       "      <td>0</td>\n",
       "    </tr>\n",
       "    <tr>\n",
       "      <th>27</th>\n",
       "      <td>bos-vs-nyk-0022300065_2_07:56.mp4</td>\n",
       "      <td>0</td>\n",
       "    </tr>\n",
       "    <tr>\n",
       "      <th>38</th>\n",
       "      <td>bos-vs-nyk-0022300065_2_00:59.mp4</td>\n",
       "      <td>0</td>\n",
       "    </tr>\n",
       "    <tr>\n",
       "      <th>48</th>\n",
       "      <td>bos-vs-nyk-0022300065_3_07:44.mp4</td>\n",
       "      <td>0</td>\n",
       "    </tr>\n",
       "    <tr>\n",
       "      <th>83</th>\n",
       "      <td>mia-vs-bos-0022300080_1_09:27.mp4</td>\n",
       "      <td>0</td>\n",
       "    </tr>\n",
       "    <tr>\n",
       "      <th>...</th>\n",
       "      <td>...</td>\n",
       "      <td>...</td>\n",
       "    </tr>\n",
       "    <tr>\n",
       "      <th>8900</th>\n",
       "      <td>dal-vs-bos-0042300405_3_00:50.mp4</td>\n",
       "      <td>0</td>\n",
       "    </tr>\n",
       "    <tr>\n",
       "      <th>8907</th>\n",
       "      <td>dal-vs-bos-0042300405_4_07:18.mp4</td>\n",
       "      <td>0</td>\n",
       "    </tr>\n",
       "    <tr>\n",
       "      <th>8910</th>\n",
       "      <td>dal-vs-bos-0042300405_4_05:10.mp4</td>\n",
       "      <td>0</td>\n",
       "    </tr>\n",
       "    <tr>\n",
       "      <th>8912</th>\n",
       "      <td>dal-vs-bos-0042300405_4_04:22.mp4</td>\n",
       "      <td>0</td>\n",
       "    </tr>\n",
       "    <tr>\n",
       "      <th>8918</th>\n",
       "      <td>dal-vs-bos-0042300405_4_00:22.mp4</td>\n",
       "      <td>0</td>\n",
       "    </tr>\n",
       "  </tbody>\n",
       "</table>\n",
       "<p>885 rows × 2 columns</p>\n",
       "</div>"
      ],
      "text/plain": [
       "                             nome_video  valore\n",
       "12    bos-vs-nyk-0022300065_1_04:27.mp4       0\n",
       "27    bos-vs-nyk-0022300065_2_07:56.mp4       0\n",
       "38    bos-vs-nyk-0022300065_2_00:59.mp4       0\n",
       "48    bos-vs-nyk-0022300065_3_07:44.mp4       0\n",
       "83    mia-vs-bos-0022300080_1_09:27.mp4       0\n",
       "...                                 ...     ...\n",
       "8900  dal-vs-bos-0042300405_3_00:50.mp4       0\n",
       "8907  dal-vs-bos-0042300405_4_07:18.mp4       0\n",
       "8910  dal-vs-bos-0042300405_4_05:10.mp4       0\n",
       "8912  dal-vs-bos-0042300405_4_04:22.mp4       0\n",
       "8918  dal-vs-bos-0042300405_4_00:22.mp4       0\n",
       "\n",
       "[885 rows x 2 columns]"
      ]
     },
     "execution_count": 12,
     "metadata": {},
     "output_type": "execute_result"
    }
   ],
   "source": [
    "df[df['valore'] == 0]"
   ]
  }
 ],
 "metadata": {
  "kernelspec": {
   "display_name": ".venv",
   "language": "python",
   "name": "python3"
  },
  "language_info": {
   "codemirror_mode": {
    "name": "ipython",
    "version": 3
   },
   "file_extension": ".py",
   "mimetype": "text/x-python",
   "name": "python",
   "nbconvert_exporter": "python",
   "pygments_lexer": "ipython3",
   "version": "3.11.11"
  }
 },
 "nbformat": 4,
 "nbformat_minor": 5
}
