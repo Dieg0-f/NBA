{
 "cells": [
  {
   "cell_type": "markdown",
   "id": "6fc1baff",
   "metadata": {},
   "source": [
    "# Scarica tutti i nomi dei player di ogni singola partita per creare database di tutti i player"
   ]
  },
  {
   "cell_type": "code",
   "execution_count": null,
   "id": "a824c460",
   "metadata": {},
   "outputs": [],
   "source": [
    "import time\n",
    "import pandas as pd\n",
    "from selenium import webdriver\n",
    "from selenium.webdriver.chrome.service import Service\n",
    "from webdriver_manager.chrome import ChromeDriverManager\n",
    "from selenium.webdriver.chrome.options import Options\n",
    "from bs4 import BeautifulSoup\n",
    "import json\n",
    "import re"
   ]
  },
  {
   "cell_type": "code",
   "execution_count": 2,
   "id": "f6f87ecb",
   "metadata": {},
   "outputs": [
    {
     "name": "stdout",
     "output_type": "stream",
     "text": [
      "Trovati 1323 link\n"
     ]
    }
   ],
   "source": [
    "with open('game_links.json', 'r') as f:\n",
    "    game_links = json.load(f)\n",
    "\n",
    "print(f\"Trovati {len(game_links)} link\")"
   ]
  },
  {
   "cell_type": "code",
   "execution_count": 3,
   "id": "45976d05",
   "metadata": {},
   "outputs": [],
   "source": [
    "# Configura Selenium\n",
    "options = Options()\n",
    "options.add_argument(\"--headless\")\n",
    "options.add_argument(\"--disable-gpu\")\n",
    "options.add_argument(\"--no-sandbox\")\n",
    "\n",
    "# Inizializza la lista per memorizzare i dati\n",
    "shots_data = []\n",
    "\n",
    "# Avvia il WebDriver\n",
    "service = Service(ChromeDriverManager().install())\n",
    "driver = webdriver.Chrome(service=service, options=options)"
   ]
  },
  {
   "cell_type": "code",
   "execution_count": 5,
   "id": "efbe24a6",
   "metadata": {},
   "outputs": [],
   "source": [
    "df = []\n",
    "\n",
    "# Supponiamo tu abbia già impostato driver e game_links\n",
    "for link in game_links:\n",
    "\n",
    "    url = link + '/box-score'\n",
    "    driver.get(url)\n",
    "\n",
    "    time.sleep(1)\n",
    "    \n",
    "    html_content = driver.page_source\n",
    "    soup = BeautifulSoup(html_content, 'html.parser')\n",
    "    \n",
    "    # Trova tutti gli span con quella classe\n",
    "    player_elements = soup.find_all('span', class_='GameBoxscoreTablePlayer_gbpNameFull__cf_sn')\n",
    "\n",
    "    # Estrazione nomi\n",
    "    for player in player_elements:\n",
    "        full_name = player.get_text(strip=True)\n",
    "        parts = full_name.split()\n",
    "\n",
    "        nome = parts[0]\n",
    "        cognome = \" \".join(parts[1:])\n",
    "\n",
    "        df.append({'Nome': nome,\n",
    "                  'Cognome': cognome})\n",
    "    "
   ]
  },
  {
   "cell_type": "code",
   "execution_count": 6,
   "id": "057cf2fc",
   "metadata": {},
   "outputs": [],
   "source": [
    "with open('players.json', 'w') as f:\n",
    "    json.dump(df, f, indent=2)"
   ]
  }
 ],
 "metadata": {
  "kernelspec": {
   "display_name": ".venv",
   "language": "python",
   "name": "python3"
  },
  "language_info": {
   "codemirror_mode": {
    "name": "ipython",
    "version": 3
   },
   "file_extension": ".py",
   "mimetype": "text/x-python",
   "name": "python",
   "nbconvert_exporter": "python",
   "pygments_lexer": "ipython3",
   "version": "3.11.2"
  }
 },
 "nbformat": 4,
 "nbformat_minor": 5
}
