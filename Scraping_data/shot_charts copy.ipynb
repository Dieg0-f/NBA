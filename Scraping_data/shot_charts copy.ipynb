{
 "cells": [
  {
   "cell_type": "code",
   "execution_count": 1,
   "id": "bb6e9d66",
   "metadata": {},
   "outputs": [],
   "source": [
    "import re\n",
    "import time\n",
    "import pandas as pd\n",
    "from selenium import webdriver\n",
    "from selenium.webdriver.chrome.service import Service\n",
    "from webdriver_manager.chrome import ChromeDriverManager\n",
    "from selenium.webdriver.chrome.options import Options\n",
    "from bs4 import BeautifulSoup\n",
    "import json\n",
    "import re\n"
   ]
  },
  {
   "cell_type": "code",
   "execution_count": 2,
   "id": "0a7e0dd6",
   "metadata": {},
   "outputs": [
    {
     "name": "stdout",
     "output_type": "stream",
     "text": [
      "Trovati 1323 link\n"
     ]
    }
   ],
   "source": [
    "with open('game_links.json', 'r') as f:\n",
    "    game_links = json.load(f)\n",
    "\n",
    "print(f\"Trovati {len(game_links)} link\")"
   ]
  },
  {
   "cell_type": "code",
   "execution_count": 3,
   "id": "30a655ac",
   "metadata": {},
   "outputs": [],
   "source": [
    "# Funzione per convertire il tempo (MM:SS) in secondi totali\n",
    "def convert_time_to_seconds(time_str):\n",
    "    try:\n",
    "        minutes, seconds = map(int, time_str.split(':'))\n",
    "        return minutes * 60 + seconds\n",
    "    except (ValueError, AttributeError):\n",
    "        return 0  # In caso di errore, restituisci 0"
   ]
  },
  {
   "cell_type": "code",
   "execution_count": 4,
   "id": "dccab406",
   "metadata": {},
   "outputs": [],
   "source": [
    "# Configura Selenium\n",
    "options = Options()\n",
    "options.add_argument(\"--disable-gpu\")\n",
    "options.add_argument(\"--no-sandbox\")"
   ]
  },
  {
   "cell_type": "code",
   "execution_count": 6,
   "id": "60aaceb0",
   "metadata": {},
   "outputs": [],
   "source": [
    "url_end = '/game-charts?period=All'\n",
    "link = game_links[0]\n",
    "teams = re.search(r'/game/([a-z\\-]+)-\\d+', link).group(1)\n",
    "\n",
    "# Inizializza la lista per memorizzare i dati\n",
    "shots_data = []\n",
    "\n",
    "# Avvia il WebDriver\n",
    "service = Service(ChromeDriverManager().install())\n",
    "driver = webdriver.Chrome(service=service, options=options)\n",
    "\n",
    "# URL della pagina\n",
    "url = link + url_end\n",
    "driver.get(url)\n",
    "\n",
    "# Attendi qualche secondo per il caricamento della pagina\n",
    "time.sleep(1)\n",
    "\n",
    "# Ottieni l'HTML della pagina\n",
    "html_content = driver.page_source\n",
    "soup = BeautifulSoup(html_content, 'html.parser')\n",
    "\n",
    "# Trova tutti gli elementi \"shot\" nella pagina\n",
    "shot_elements = soup.find_all('g', class_='shot')"
   ]
  },
  {
   "cell_type": "code",
   "execution_count": 7,
   "id": "18ebbe0c",
   "metadata": {},
   "outputs": [],
   "source": [
    "# Regex per estrarre le informazioni dai titoli\n",
    "player_shot_pattern = r'^(MISS )?(.*?)(\\d+\\'|\\d+\\'\\s\\d+\\\")?\\s(.*?)\\s\\((\\d+)\\sPTS\\)(?:\\s\\((.*?)\\s(\\d+)\\sAST\\))?\\s(Q\\d+)\\s-\\s(\\d+:\\d+)$'\n",
    "miss_shot_pattern = r'^MISS\\s(.*?)(\\d+\\'|\\d+\\'\\s\\d+\\\")?\\s(.*?)\\s(Q\\d+)\\s-\\s(\\d+:\\d+)$'"
   ]
  },
  {
   "cell_type": "code",
   "execution_count": 48,
   "id": "3796faa7",
   "metadata": {},
   "outputs": [
    {
     "data": {
      "text/plain": [
       "\"Porter Jr. 2' Cutting Dunk Shot (5 PTS) (Gordon 1 AST)\\nQ1 - 07:58\""
      ]
     },
     "execution_count": 48,
     "metadata": {},
     "output_type": "execute_result"
    }
   ],
   "source": [
    "shot = shot_elements[98]\n",
    "\n",
    "# Ottieni il titolo che contiene le informazioni sul tiro\n",
    "title_text = shot.find('title').text.strip()\n",
    "title_text"
   ]
  },
  {
   "cell_type": "code",
   "execution_count": 49,
   "id": "df1d5199",
   "metadata": {},
   "outputs": [
    {
     "name": "stdout",
     "output_type": "stream",
     "text": [
      "<path d=\"M -5, 0 a 5,5 0 1,0 10,0 a 5,5 0 1,0 -10,0\" fill=\"rgba(255,255,255, 0.1\" stroke=\"rgba(10, 158, 117, 0.8)\" stroke-width=\"3\" transform=\"translate(248, 65)\"></path> \n",
      " 248.0 \n",
      " 65.0\n"
     ]
    }
   ],
   "source": [
    "path = shot.find('path')\n",
    "if path and 'transform' in path.attrs:\n",
    "    transform_text = path['transform']\n",
    "    # Estrai le coordinate dal testo transform=\"translate(X, Y)\"\n",
    "    coords_match = re.search(r'translate\\(([^,]+),\\s*([^)]+)\\)', transform_text)\n",
    "    if coords_match:\n",
    "        x_coord = float(coords_match.group(1))\n",
    "        y_coord = float(coords_match.group(2))\n",
    "    else:\n",
    "        x_coord = None\n",
    "        y_coord = None\n",
    "else:\n",
    "    x_coord = None\n",
    "    y_coord = None\n",
    "\n",
    "\n",
    "print(path,'\\n',x_coord,'\\n',y_coord)"
   ]
  },
  {
   "cell_type": "code",
   "execution_count": 50,
   "id": "0a47f5ef",
   "metadata": {},
   "outputs": [
    {
     "name": "stdout",
     "output_type": "stream",
     "text": [
      "<re.Match object; span=(0, 65), match=\"Porter Jr. 2' Cutting Dunk Shot (5 PTS) (Gordon 1>\n"
     ]
    }
   ],
   "source": [
    "match = re.search(player_shot_pattern, title_text)\n",
    "print(match)"
   ]
  },
  {
   "cell_type": "code",
   "execution_count": 53,
   "id": "db893994",
   "metadata": {},
   "outputs": [
    {
     "name": "stdout",
     "output_type": "stream",
     "text": [
      "None\n"
     ]
    }
   ],
   "source": [
    "print(match.group(1))"
   ]
  },
  {
   "cell_type": "code",
   "execution_count": 55,
   "id": "80dab73a",
   "metadata": {},
   "outputs": [
    {
     "name": "stdout",
     "output_type": "stream",
     "text": [
      "Porter\n"
     ]
    }
   ],
   "source": [
    "print(match.group(2))"
   ]
  },
  {
   "cell_type": "code",
   "execution_count": 56,
   "id": "11ac8f56",
   "metadata": {},
   "outputs": [
    {
     "name": "stdout",
     "output_type": "stream",
     "text": [
      "None\n"
     ]
    }
   ],
   "source": [
    "print(match.group(3))"
   ]
  },
  {
   "cell_type": "code",
   "execution_count": 57,
   "id": "7a3e842c",
   "metadata": {},
   "outputs": [
    {
     "name": "stdout",
     "output_type": "stream",
     "text": [
      "None\n"
     ]
    }
   ],
   "source": [
    "print(match.group(3))"
   ]
  },
  {
   "cell_type": "code",
   "execution_count": null,
   "id": "29d8cb3f",
   "metadata": {},
   "outputs": [],
   "source": [
    "##################################\n",
    "##################################\n",
    "##################################\n",
    "##################################\n",
    "\n",
    "for shot in shot_elements:\n",
    "    # Ottieni il titolo che contiene le informazioni sul tiro\n",
    "    title_text = shot.find('title').text.strip()\n",
    "\n",
    "    # Ottieni le coordinate del tiro dal tag path\n",
    "    path = shot.find('path')\n",
    "    if path and 'transform' in path.attrs:\n",
    "        transform_text = path['transform']\n",
    "        # Estrai le coordinate dal testo transform=\"translate(X, Y)\"\n",
    "        coords_match = re.search(r'translate\\(([^,]+),\\s*([^)]+)\\)', transform_text)\n",
    "        if coords_match:\n",
    "            x_coord = float(coords_match.group(1))\n",
    "            y_coord = float(coords_match.group(2))\n",
    "        else:\n",
    "            x_coord = None\n",
    "            y_coord = None\n",
    "    else:\n",
    "        x_coord = None\n",
    "        y_coord = None\n",
    "\n",
    "    # Analizza il titolo per estrarre le informazioni\n",
    "    # Prova prima con il pattern per i tiri fatti\n",
    "    match = re.search(player_shot_pattern, title_text)\n",
    "    if match:\n",
    "        is_miss = bool(match.group(1))\n",
    "        player = match.group(2).strip()\n",
    "        distance = match.group(3).strip() if match.group(3) else \"\"\n",
    "        shot_type = match.group(4).strip()\n",
    "        points = match.group(5).strip() if not is_miss else \"0\"\n",
    "        assist_player = match.group(6).strip() if match.group(6) else \"\"\n",
    "        assist_count = match.group(7) if match.group(7) else \"\"\n",
    "        quarter = match.group(8).strip()\n",
    "        time_remaining = match.group(9).strip()\n",
    "        \n",
    "\n",
    "        shots_data.append({\n",
    "            'Game': teams,\n",
    "            'Giocatore': player,\n",
    "            'Tipo di tiro': f\"{distance} {shot_type}\".strip(),\n",
    "            'Risultato': 'Miss' if is_miss else 'Made',\n",
    "            'Coordinate (x, y)': f\"({x_coord}, {y_coord})\",\n",
    "            'Assist': f\"{assist_player} ({assist_count})\" if assist_player else \"\",\n",
    "            'Tempo': time_remaining,\n",
    "            'Quarto': quarter,\n",
    "            'Punti': points,\n",
    "            'Tempo_secondi': convert_time_to_seconds(time_remaining)  # Aggiungiamo una colonna per l'ordinamento\n",
    "        })\n",
    "    else:\n",
    "        # Prova con il pattern per i tiri mancati\n",
    "        miss_match = re.search(miss_shot_pattern, title_text)\n",
    "        if miss_match:\n",
    "            player = miss_match.group(1).strip()\n",
    "            distance = miss_match.group(2).strip() if miss_match.group(2) else \"\"\n",
    "            shot_type = miss_match.group(3).strip()\n",
    "            quarter = miss_match.group(4).strip()\n",
    "            time_remaining = miss_match.group(5).strip()\n",
    "\n",
    "            shots_data.append({\n",
    "                'Game': teams,\n",
    "                'Giocatore': player,\n",
    "                'Tipo di tiro': f\"{distance} {shot_type}\".strip(),\n",
    "                'Risultato': 'Miss',\n",
    "                'Coordinate (x, y)': f\"({x_coord}, {y_coord})\",\n",
    "                'Assist': \"\",\n",
    "                'Tempo': time_remaining,\n",
    "                'Quarto': quarter,\n",
    "                'Punti': \"0\",\n",
    "                'Tempo_secondi': convert_time_to_seconds(time_remaining)  # Aggiungiamo una colonna per l'ordinamento\n",
    "            })\n",
    "        else:\n",
    "            # Se non è possibile fare match, aggiungi comunque i dati grezzi\n",
    "            shots_data.append({\n",
    "                'Titolo Originale': title_text,\n",
    "                'Coordinate (x, y)': f\"({x_coord}, {y_coord})\"\n",
    "            })\n",
    "\n",
    "# Chiudi il driver\n",
    "driver.quit()"
   ]
  },
  {
   "cell_type": "code",
   "execution_count": 17,
   "id": "117bdce8",
   "metadata": {},
   "outputs": [
    {
     "name": "stdout",
     "output_type": "stream",
     "text": [
      "           Game Giocatore                   Tipo di tiro Risultato  \\\n",
      "0    lal-vs-den      Paul             9' Fadeaway Jumper      Miss   \n",
      "1    nop-vs-mem     Davis                        1' Dunk      Made   \n",
      "2    lal-vs-den    Nurkic          4' Cutting Layup Shot      Made   \n",
      "3    lal-vs-den     Curry    28' 3PT Step Back Jump Shot      Made   \n",
      "4    nop-vs-mem     Jokic  7' Driving Floating Jump Shot      Made   \n",
      "..          ...       ...                            ...       ...   \n",
      "372  nop-vs-mem   Pickett           17' Pullup Jump Shot      Made   \n",
      "373  lal-vs-den     Curry    24' 3PT Step Back Jump Shot      Made   \n",
      "374  lal-vs-den    Nurkic          4' Cutting Layup Shot      Made   \n",
      "375  lal-vs-den      Paul              24' 3PT Jump Shot      Miss   \n",
      "376  lal-vs-den  Thompson              27' 3PT Jump Shot      Miss   \n",
      "\n",
      "                            Coordinate (x, y)       Assist  Tempo Quarto Punti  \n",
      "0                              (319.0, 110.0)               11:50     Q1     0  \n",
      "1                               (252.0, 58.0)  Russell (1)  11:42     Q1     2  \n",
      "2                               (256.0, 86.0)   Durant (1)  11:28     Q1     2  \n",
      "3                 (61.000000000000014, 257.0)               11:16     Q1     3  \n",
      "4                              (263.0, 115.0)   Murray (1)  11:15     Q1     2  \n",
      "..                                        ...          ...    ...    ...   ...  \n",
      "372               (338.0, 193.00000000000003)               00:32     Q4     2  \n",
      "373  (23.000000000000007, 110.99999999999999)  Kuminga (1)  00:31     Q4    27  \n",
      "374                             (283.0, 79.0)   Booker (8)  00:10     Q4    14  \n",
      "375                (68.99999999999999, 212.0)               00:08     Q4     0  \n",
      "376               (118.99999999999999, 285.0)               00:04     Q4     0  \n",
      "\n",
      "[377 rows x 9 columns]\n",
      "Analisi completata. I dati sono stati salvati in 'shots_data.csv'\n"
     ]
    }
   ],
   "source": [
    "# Applica la funzione di conversione del tempo\n",
    "for shot in shots_data:\n",
    "    if 'Tempo' in shot:\n",
    "        shot['Tempo_secondi'] = convert_time_to_seconds(shot['Tempo'])\n",
    "\n",
    "# Crea un DataFrame con i dati raccolti\n",
    "df = pd.DataFrame(shots_data)\n",
    "\n",
    "# Ordina il DataFrame in base al tempo (dal tempo più alto al più basso, cioè dall'inizio alla fine del quarto)\n",
    "df = df.sort_values(by=['Quarto', 'Tempo_secondi'], ascending=[True, False])\n",
    "df = df.reset_index(drop=True)\n",
    "\n",
    "# Rimuovi la colonna ausiliaria usata per l'ordinamento\n",
    "if 'Tempo_secondi' in df.columns:\n",
    "    df = df.drop('Tempo_secondi', axis=1)\n",
    "\n",
    "# Salva il DataFrame in un file CSV\n",
    "df.to_csv('shots_data.csv', index=False)\n",
    "\n",
    "# Imposta un limite più ampio per la larghezza della visualizzazione\n",
    "pd.set_option('display.width', None)\n",
    "pd.set_option('display.max_columns', None)\n",
    "print(df)\n",
    "\n",
    "\n",
    "\n",
    "print(f\"Analisi completata. I dati sono stati salvati in 'shots_data.csv'\")"
   ]
  }
 ],
 "metadata": {
  "kernelspec": {
   "display_name": ".venv",
   "language": "python",
   "name": "python3"
  },
  "language_info": {
   "codemirror_mode": {
    "name": "ipython",
    "version": 3
   },
   "file_extension": ".py",
   "mimetype": "text/x-python",
   "name": "python",
   "nbconvert_exporter": "python",
   "pygments_lexer": "ipython3",
   "version": "3.11.2"
  }
 },
 "nbformat": 4,
 "nbformat_minor": 5
}
